{
 "cells": [
  {
   "cell_type": "markdown",
   "source": [
    "# Analisis de datos\r\n",
    "###### Desarrollado por: Sebastián Marroquín"
   ],
   "metadata": {}
  }
 ],
 "metadata": {
  "orig_nbformat": 4,
  "language_info": {
   "name": "python",
   "version": "3.8.5"
  },
  "kernelspec": {
   "name": "python3",
   "display_name": "Python 3.8.5 32-bit (system)"
  },
  "interpreter": {
   "hash": "ef1d0b00ebe6b9a51665d76ec59219084745149e631612f9c260499d5876ec43"
  }
 },
 "nbformat": 4,
 "nbformat_minor": 2
}